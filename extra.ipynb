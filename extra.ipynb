{
 "cells": [
  {
   "cell_type": "code",
   "execution_count": null,
   "id": "baadfefe",
   "metadata": {},
   "outputs": [],
   "source": [
    "def separate_symbols(text: str, check: bool = False):\n",
    "    import re\n",
    "    R = [ ]\n",
    "    for t in text.split():\n",
    "        m = re.match(r\"(\\W*)(\\w+)(\\W*)\", t)\n",
    "        if m:\n",
    "            try:\n",
    "                p1 = m.group(1)\n",
    "                if check:\n",
    "                    print(f\"p1: {p1}\")\n",
    "                if len(p1) > 0:\n",
    "                    R.append(p1)\n",
    "            except TypeError:\n",
    "                pass\n",
    "            try:\n",
    "                p2 = m.group(2)\n",
    "                if check:\n",
    "                    print(f\"p2: {p2}\")\n",
    "                if len(p2) > 0:\n",
    "                    R.append(p2)\n",
    "            except TypeError:\n",
    "                pass\n",
    "            try:\n",
    "                p3 = m.group(3)\n",
    "                if check:\n",
    "                    print(f\"p3: {p3}\")\n",
    "                if len(p3) > 0:\n",
    "                    R.append(p3)\n",
    "            except TypeError:\n",
    "                pass\n",
    "    return R"
   ]
  }
 ],
 "metadata": {
  "language_info": {
   "name": "python"
  }
 },
 "nbformat": 4,
 "nbformat_minor": 5
}
